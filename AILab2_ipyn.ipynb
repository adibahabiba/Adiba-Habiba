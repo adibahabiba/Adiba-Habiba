{
  "nbformat": 4,
  "nbformat_minor": 0,
  "metadata": {
    "colab": {
      "provenance": [],
      "authorship_tag": "ABX9TyPpGpkAohUmX8e6vLx10HPP",
      "include_colab_link": true
    },
    "kernelspec": {
      "name": "python3",
      "display_name": "Python 3"
    },
    "language_info": {
      "name": "python"
    }
  },
  "cells": [
    {
      "cell_type": "markdown",
      "metadata": {
        "id": "view-in-github",
        "colab_type": "text"
      },
      "source": [
        "<a href=\"https://colab.research.google.com/github/adibahabiba/Adiba-Habiba/blob/main/AILab2_ipyn.ipynb\" target=\"_parent\"><img src=\"https://colab.research.google.com/assets/colab-badge.svg\" alt=\"Open In Colab\"/></a>"
      ]
    },
    {
      "cell_type": "code",
      "execution_count": 5,
      "metadata": {
        "colab": {
          "base_uri": "https://localhost:8080/"
        },
        "id": "PeclxmuzHQr9",
        "outputId": "826a388f-14aa-4949-8da0-13abc8f90c7d"
      },
      "outputs": [
        {
          "output_type": "stream",
          "name": "stdout",
          "text": [
            "[5, 6, 7]\n",
            "[5, 6, 7, 9]\n",
            "[5, 6, 'My name', 7, 9]\n",
            "6\n"
          ]
        }
      ],
      "source": [
        "list1 = [5,6,7]\n",
        "print(list1)\n",
        "list1.append(9)\n",
        "print(list1)\n",
        "list1.insert(2,\"My name\")\n",
        "print(list1)\n",
        "print(list1[1])\n"
      ]
    }
  ]
}