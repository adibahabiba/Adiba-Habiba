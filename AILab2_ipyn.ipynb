{
  "nbformat": 4,
  "nbformat_minor": 0,
  "metadata": {
    "colab": {
      "provenance": [],
      "authorship_tag": "ABX9TyMkIxXOJ/9Y2RLSco2Hqm/g",
      "include_colab_link": true
    },
    "kernelspec": {
      "name": "python3",
      "display_name": "Python 3"
    },
    "language_info": {
      "name": "python"
    }
  },
  "cells": [
    {
      "cell_type": "markdown",
      "metadata": {
        "id": "view-in-github",
        "colab_type": "text"
      },
      "source": [
        "<a href=\"https://colab.research.google.com/github/adibahabiba/Adiba-Habiba/blob/main/AILab2_ipyn.ipynb\" target=\"_parent\"><img src=\"https://colab.research.google.com/assets/colab-badge.svg\" alt=\"Open In Colab\"/></a>"
      ]
    },
    {
      "cell_type": "code",
      "execution_count": 7,
      "metadata": {
        "colab": {
          "base_uri": "https://localhost:8080/"
        },
        "id": "PeclxmuzHQr9",
        "outputId": "a6ced948-56b9-4c9e-d9bf-4eaa383c65ec"
      },
      "outputs": [
        {
          "output_type": "stream",
          "name": "stdout",
          "text": [
            "[5, 6, 7]\n",
            "[5, 6, 7, 9]\n",
            "[5, 6, 'My name', 7, 9]\n",
            "6\n",
            "[5, 'My name', 7, 9]\n",
            "[5, 7, 9]\n"
          ]
        }
      ],
      "source": [
        "list1 = [5,6,7]\n",
        "print(list1)\n",
        "list1.append(9)\n",
        "print(list1)\n",
        "list1.insert(2,\"My name\")\n",
        "print(list1)\n",
        "print(list1[1])\n",
        "list1.remove(6)\n",
        "print(list1)\n",
        "list1.pop(1)\n",
        "print(list1)\n"
      ]
    },
    {
      "cell_type": "code",
      "source": [
        "list1= [5,6,7,8,9, 6]\n",
        "list2=list1.copy()\n",
        "print(list1)\n",
        "print(list2)\n",
        "list2.append(\"a new string\")\n",
        "print(list1)\n",
        "print(list2)"
      ],
      "metadata": {
        "colab": {
          "base_uri": "https://localhost:8080/"
        },
        "id": "9EILP2QkKESW",
        "outputId": "62cda46d-dbce-497c-94fc-5fa5880e067c"
      },
      "execution_count": 20,
      "outputs": [
        {
          "output_type": "stream",
          "name": "stdout",
          "text": [
            "[5, 6, 7, 8, 9, 6]\n",
            "[5, 6, 7, 8, 9, 6]\n",
            "[5, 6, 7, 8, 9, 6]\n",
            "[5, 6, 7, 8, 9, 6, 'a new string']\n"
          ]
        }
      ]
    },
    {
      "cell_type": "code",
      "source": [
        "tuple1 = (5,6,2,1)\n",
        "print(tuple1[1])\n"
      ],
      "metadata": {
        "colab": {
          "base_uri": "https://localhost:8080/"
        },
        "id": "ThnvB27oLtvH",
        "outputId": "f953135c-6e62-482f-fd42-a19a6e7a4319"
      },
      "execution_count": 17,
      "outputs": [
        {
          "output_type": "stream",
          "name": "stdout",
          "text": [
            "6\n"
          ]
        }
      ]
    },
    {
      "cell_type": "code",
      "source": [
        "mySet={1,3,4,2,1,4,5}\n",
        "print(mySet)"
      ],
      "metadata": {
        "colab": {
          "base_uri": "https://localhost:8080/"
        },
        "id": "UV51Xjs2MC8g",
        "outputId": "b4c2db19-9542-45b3-bd1e-05d2b22ff1d9"
      },
      "execution_count": 18,
      "outputs": [
        {
          "output_type": "stream",
          "name": "stdout",
          "text": [
            "{1, 2, 3, 4, 5}\n"
          ]
        }
      ]
    },
    {
      "cell_type": "code",
      "source": [
        "Myset = set(list1)\n",
        "print(Myset)\n"
      ],
      "metadata": {
        "colab": {
          "base_uri": "https://localhost:8080/"
        },
        "id": "M15Pe2JXMcR5",
        "outputId": "32645fcc-f211-4bca-91cf-c52763a7c1ed"
      },
      "execution_count": 21,
      "outputs": [
        {
          "output_type": "stream",
          "name": "stdout",
          "text": [
            "{5, 6, 7, 8, 9}\n"
          ]
        }
      ]
    },
    {
      "cell_type": "code",
      "source": [
        "dict1 = {\"my city\":\"Dhaka\",7: \"Khulna\", 12: \"Ctg\"}\n",
        "dict1[\"my city\"]\n",
        "dict1[\"new country\"] = \"USA\"\n",
        "print(dict1)"
      ],
      "metadata": {
        "colab": {
          "base_uri": "https://localhost:8080/"
        },
        "id": "_BhrpxZ0Nvoc",
        "outputId": "0b4709aa-3f07-4e7a-c540-7031ba06d4ae"
      },
      "execution_count": 26,
      "outputs": [
        {
          "output_type": "stream",
          "name": "stdout",
          "text": [
            "{'my city': 'Dhaka', 7: 'Khulna', 12: 'Ctg', 'new country': 'USA'}\n"
          ]
        }
      ]
    },
    {
      "cell_type": "code",
      "source": [
        "class Car:\n",
        "  def __init__(self):\n",
        "    self.company = \"Toyota\"\n",
        "    self.model = \"corolla\"\n",
        "    self.year=2010\n",
        "  def __str__(self):\n",
        "    return f\"Company: {self.company}, Model : {self.model}, Year: {self.year}\"\n",
        "\n",
        "\n",
        "  def getCompany(self):\n",
        "    return self.company\n",
        "  def setCompany(self,company):\n",
        "    self.company = company\n",
        "\n",
        "myCar = Car()\n",
        "\n",
        "x= myCar.getCompany()\n",
        "print(x)\n",
        "myCar.setCompany(\"Honda\")\n",
        "print(myCar.getCompany())\n",
        "\n",
        "\n",
        "\n"
      ],
      "metadata": {
        "colab": {
          "base_uri": "https://localhost:8080/"
        },
        "id": "aeBc_35hPKlD",
        "outputId": "9cfe8410-e3e6-45f2-903d-89c671be39f5"
      },
      "execution_count": 30,
      "outputs": [
        {
          "output_type": "stream",
          "name": "stdout",
          "text": [
            "Toyota\n",
            "Honda\n"
          ]
        }
      ]
    },
    {
      "cell_type": "code",
      "source": [
        "\n",
        "class Book:\n",
        "  def __init__(self, title, author, isbn):\n",
        "    self.title = title\n",
        "    self.author = author\n",
        "    self.isbn = isbn\n",
        "  def __str__(self):\n",
        "    return f\"Title: {self.title}\\n, Author: {self.author}\\n, ISBN: {self.isbn}\"\n",
        "\n",
        "class Library:\n",
        "  def __init__(self):\n",
        "    self.books = dict()\n",
        "\n",
        "  def addBook(self,book):\n",
        "    self.books[book.isbn] = book\n",
        "  def removeBook(self, isbn):\n",
        "    self.books[isbn] = \"\"\n",
        "  def searchByT(self):\n",
        "    for key in self.books:\n",
        "      tempTitle = self.books[key].title\n",
        "      if(title==tempTitle):\n",
        "        return self.books[key]\n",
        "  def displayBooks(self):\n",
        "    for key in self.books:\n",
        "      tempBook = self.books[key]\n",
        "      print(tempbook)\n",
        "\n",
        "\n",
        "Book1 = Book(\"a\", \"x\", \"1\")\n",
        "Book2 = Book (\"B\", \"Y\", \"2\")\n",
        "\n",
        "myLibrary = Library()\n",
        "myLibray.addBook(Book1)\n",
        "myLibrary.displayBooks()"
      ],
      "metadata": {
        "colab": {
          "base_uri": "https://localhost:8080/",
          "height": 193
        },
        "id": "mQ5npa5cVNqY",
        "outputId": "f5bdd460-8063-4dd3-eaf5-8aae496f2505"
      },
      "execution_count": 33,
      "outputs": [
        {
          "output_type": "error",
          "ename": "NameError",
          "evalue": "name 'myLibray' is not defined",
          "traceback": [
            "\u001b[0;31m---------------------------------------------------------------------------\u001b[0m",
            "\u001b[0;31mNameError\u001b[0m                                 Traceback (most recent call last)",
            "\u001b[0;32m<ipython-input-33-85b6dde90665>\u001b[0m in \u001b[0;36m<cell line: 0>\u001b[0;34m()\u001b[0m\n\u001b[1;32m     30\u001b[0m \u001b[0;34m\u001b[0m\u001b[0m\n\u001b[1;32m     31\u001b[0m \u001b[0mmyLibrary\u001b[0m \u001b[0;34m=\u001b[0m \u001b[0mLibrary\u001b[0m\u001b[0;34m(\u001b[0m\u001b[0;34m)\u001b[0m\u001b[0;34m\u001b[0m\u001b[0;34m\u001b[0m\u001b[0m\n\u001b[0;32m---> 32\u001b[0;31m \u001b[0mmyLibray\u001b[0m\u001b[0;34m.\u001b[0m\u001b[0maddBook\u001b[0m\u001b[0;34m(\u001b[0m\u001b[0mBook1\u001b[0m\u001b[0;34m)\u001b[0m\u001b[0;34m\u001b[0m\u001b[0;34m\u001b[0m\u001b[0m\n\u001b[0m\u001b[1;32m     33\u001b[0m \u001b[0mmyLibrary\u001b[0m\u001b[0;34m.\u001b[0m\u001b[0mdisplayBooks\u001b[0m\u001b[0;34m(\u001b[0m\u001b[0;34m)\u001b[0m\u001b[0;34m\u001b[0m\u001b[0;34m\u001b[0m\u001b[0m\n",
            "\u001b[0;31mNameError\u001b[0m: name 'myLibray' is not defined"
          ]
        }
      ]
    }
  ]
}