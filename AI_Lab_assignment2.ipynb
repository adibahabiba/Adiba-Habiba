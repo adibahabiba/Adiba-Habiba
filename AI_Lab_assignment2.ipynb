{
  "nbformat": 4,
  "nbformat_minor": 0,
  "metadata": {
    "colab": {
      "provenance": [],
      "authorship_tag": "ABX9TyPgt9Ur2fP+PhnE2iONnRD2",
      "include_colab_link": true
    },
    "kernelspec": {
      "name": "python3",
      "display_name": "Python 3"
    },
    "language_info": {
      "name": "python"
    }
  },
  "cells": [
    {
      "cell_type": "markdown",
      "metadata": {
        "id": "view-in-github",
        "colab_type": "text"
      },
      "source": [
        "<a href=\"https://colab.research.google.com/github/adibahabiba/Adiba-Habiba/blob/main/AI_Lab_assignment2.ipynb\" target=\"_parent\"><img src=\"https://colab.research.google.com/assets/colab-badge.svg\" alt=\"Open In Colab\"/></a>"
      ]
    },
    {
      "cell_type": "code",
      "execution_count": null,
      "metadata": {
        "id": "MUPckRIpZkm4"
      },
      "outputs": [],
      "source": [
        "import math\n",
        "import random\n",
        "\n",
        "\n",
        "def euclidean_distance(a, b):\n",
        "  return math.sqrt((a[0]- b[0]) ** 2 + (a[1] - b[1]) ** 2)\\\n",
        "def total_distance(route, points):\n",
        "  dist = 0\n",
        "  for i in range(len(route) - 1):\n",
        "    dist += euclidean_d\n",
        "\n",
        "\n"
      ]
    }
  ]
}